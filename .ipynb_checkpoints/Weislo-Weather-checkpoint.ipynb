{
 "cells": [
  {
   "cell_type": "code",
   "execution_count": 1,
   "metadata": {
    "scrolled": false
   },
   "outputs": [],
   "source": [
    "%matplotlib inline"
   ]
  },
  {
   "cell_type": "code",
   "execution_count": 2,
   "metadata": {},
   "outputs": [],
   "source": [
    "import matplotlib.pyplot as plt\n",
    "import pandas as pd\n",
    "import numpy as np\n",
    "import seaborn as sbn\n",
    "from scipy import stats\n",
    "from weather import city_list, weather_analysis, w_stats\n",
    "import gmaps\n",
    "from config import api_key, gkey\n",
    "# Configure gmaps\n",
    "gmaps.configure(api_key=gkey)"
   ]
  },
  {
   "cell_type": "code",
   "execution_count": null,
   "metadata": {},
   "outputs": [],
   "source": [
    "# To generate a new set of cities, uncomment the line below and run\n",
    "# city_list()"
   ]
  },
  {
   "cell_type": "code",
   "execution_count": 3,
   "metadata": {},
   "outputs": [
    {
     "name": "stdout",
     "output_type": "stream",
     "text": [
      "Getting a dataframe from the file ./data/test.csv...\n"
     ]
    }
   ],
   "source": [
    "weather_data = weather_analysis('./data/test.csv')"
   ]
  },
  {
   "cell_type": "code",
   "execution_count": 4,
   "metadata": {},
   "outputs": [
    {
     "data": {
      "text/html": [
       "<div>\n",
       "<style scoped>\n",
       "    .dataframe tbody tr th:only-of-type {\n",
       "        vertical-align: middle;\n",
       "    }\n",
       "\n",
       "    .dataframe tbody tr th {\n",
       "        vertical-align: top;\n",
       "    }\n",
       "\n",
       "    .dataframe thead th {\n",
       "        text-align: right;\n",
       "    }\n",
       "</style>\n",
       "<table border=\"1\" class=\"dataframe\">\n",
       "  <thead>\n",
       "    <tr style=\"text-align: right;\">\n",
       "      <th></th>\n",
       "      <th>City</th>\n",
       "      <th>Humidity</th>\n",
       "      <th>Min Temp</th>\n",
       "      <th>Max Temp</th>\n",
       "      <th>Wind Speed</th>\n",
       "      <th>Cloudiness</th>\n",
       "      <th>Date</th>\n",
       "      <th>Country</th>\n",
       "      <th>Sunrise</th>\n",
       "      <th>Sunset</th>\n",
       "      <th>Lat</th>\n",
       "      <th>Lon</th>\n",
       "      <th>Daytime</th>\n",
       "      <th>Date(GMT)</th>\n",
       "      <th>Absolute Latitude</th>\n",
       "    </tr>\n",
       "  </thead>\n",
       "  <tbody>\n",
       "    <tr>\n",
       "      <th>0</th>\n",
       "      <td>Arraial do Cabo</td>\n",
       "      <td>49</td>\n",
       "      <td>31.00</td>\n",
       "      <td>33.00</td>\n",
       "      <td>6.20</td>\n",
       "      <td>0</td>\n",
       "      <td>1546869600</td>\n",
       "      <td>BR</td>\n",
       "      <td>1546848622</td>\n",
       "      <td>1546897113</td>\n",
       "      <td>-22.97</td>\n",
       "      <td>-42.02</td>\n",
       "      <td>Day</td>\n",
       "      <td>01-07-2019: 14:00</td>\n",
       "      <td>22.97</td>\n",
       "    </tr>\n",
       "    <tr>\n",
       "      <th>1</th>\n",
       "      <td>Carnarvon</td>\n",
       "      <td>11</td>\n",
       "      <td>31.43</td>\n",
       "      <td>31.43</td>\n",
       "      <td>5.01</td>\n",
       "      <td>80</td>\n",
       "      <td>1546872328</td>\n",
       "      <td>ZA</td>\n",
       "      <td>1546832178</td>\n",
       "      <td>1546882753</td>\n",
       "      <td>-30.97</td>\n",
       "      <td>22.13</td>\n",
       "      <td>Day</td>\n",
       "      <td>01-07-2019: 14:45</td>\n",
       "      <td>30.97</td>\n",
       "    </tr>\n",
       "    <tr>\n",
       "      <th>2</th>\n",
       "      <td>Mar del Plata</td>\n",
       "      <td>38</td>\n",
       "      <td>20.48</td>\n",
       "      <td>20.48</td>\n",
       "      <td>9.96</td>\n",
       "      <td>32</td>\n",
       "      <td>1546872328</td>\n",
       "      <td>AR</td>\n",
       "      <td>1546850905</td>\n",
       "      <td>1546907055</td>\n",
       "      <td>-46.43</td>\n",
       "      <td>-67.52</td>\n",
       "      <td>Day</td>\n",
       "      <td>01-07-2019: 14:45</td>\n",
       "      <td>46.43</td>\n",
       "    </tr>\n",
       "    <tr>\n",
       "      <th>3</th>\n",
       "      <td>Busselton</td>\n",
       "      <td>100</td>\n",
       "      <td>19.40</td>\n",
       "      <td>19.40</td>\n",
       "      <td>10.86</td>\n",
       "      <td>0</td>\n",
       "      <td>1546872328</td>\n",
       "      <td>AU</td>\n",
       "      <td>1546809400</td>\n",
       "      <td>1546860770</td>\n",
       "      <td>-33.64</td>\n",
       "      <td>115.35</td>\n",
       "      <td>Night</td>\n",
       "      <td>01-07-2019: 14:45</td>\n",
       "      <td>33.64</td>\n",
       "    </tr>\n",
       "    <tr>\n",
       "      <th>4</th>\n",
       "      <td>Albany</td>\n",
       "      <td>55</td>\n",
       "      <td>-13.00</td>\n",
       "      <td>-8.30</td>\n",
       "      <td>3.60</td>\n",
       "      <td>75</td>\n",
       "      <td>1546869240</td>\n",
       "      <td>US</td>\n",
       "      <td>1546863893</td>\n",
       "      <td>1546897101</td>\n",
       "      <td>42.65</td>\n",
       "      <td>-73.75</td>\n",
       "      <td>Day</td>\n",
       "      <td>01-07-2019: 13:54</td>\n",
       "      <td>42.65</td>\n",
       "    </tr>\n",
       "  </tbody>\n",
       "</table>\n",
       "</div>"
      ],
      "text/plain": [
       "              City  Humidity  Min Temp  Max Temp  Wind Speed  Cloudiness  \\\n",
       "0  Arraial do Cabo        49     31.00     33.00        6.20           0   \n",
       "1        Carnarvon        11     31.43     31.43        5.01          80   \n",
       "2    Mar del Plata        38     20.48     20.48        9.96          32   \n",
       "3        Busselton       100     19.40     19.40       10.86           0   \n",
       "4           Albany        55    -13.00     -8.30        3.60          75   \n",
       "\n",
       "         Date Country     Sunrise      Sunset    Lat     Lon Daytime  \\\n",
       "0  1546869600      BR  1546848622  1546897113 -22.97  -42.02     Day   \n",
       "1  1546872328      ZA  1546832178  1546882753 -30.97   22.13     Day   \n",
       "2  1546872328      AR  1546850905  1546907055 -46.43  -67.52     Day   \n",
       "3  1546872328      AU  1546809400  1546860770 -33.64  115.35   Night   \n",
       "4  1546869240      US  1546863893  1546897101  42.65  -73.75     Day   \n",
       "\n",
       "           Date(GMT)  Absolute Latitude  \n",
       "0  01-07-2019: 14:00              22.97  \n",
       "1  01-07-2019: 14:45              30.97  \n",
       "2  01-07-2019: 14:45              46.43  \n",
       "3  01-07-2019: 14:45              33.64  \n",
       "4  01-07-2019: 13:54              42.65  "
      ]
     },
     "execution_count": 4,
     "metadata": {},
     "output_type": "execute_result"
    }
   ],
   "source": [
    "# Convert the Date (data retrieval of first record) from Epoch to readable time\n",
    "\n",
    "weather_data['Date(GMT)'] = pd.to_datetime(weather_data['Date'], unit='s').dt.strftime('%m-%d-%Y: %H:%M')\n",
    "adate = weather_data['Date(GMT)'][0] + ' GMT'\n",
    "\n",
    "# For statistical analysis, we will consider absolute latitude\n",
    "weather_data['Absolute Latitude'] = abs(weather_data['Lat'])\n",
    "\n",
    "weather_data.head()"
   ]
  },
  {
   "cell_type": "markdown",
   "metadata": {},
   "source": [
    "### Testing the distribution of the random cities by plotting latitude/longitude\n",
    "\n",
    "* Is the distribution of cities even across a range of coordinates (on land masses)?\n",
    "- Plot out the latitude/longitude of the random sample using Citipy\n",
    "- While the density of the Citipy sample does not reflect population density, it gives a nice spread across land masses.\n",
    "** Density can be seen when plotting a random sample of the OWM city (JSON libarary) coordinates"
   ]
  },
  {
   "cell_type": "code",
   "execution_count": null,
   "metadata": {},
   "outputs": [],
   "source": [
    "sbn.scatterplot(data=weather_data, x='Lon', y='Lat', hue='Daytime', legend=False, s=40)\n",
    "fig = plt.gcf()\n",
    "fig.set_size_inches(10, 8)\n",
    "fig.ylimit=(-60,45)\n",
    "fig.xlimit=(-65,85)\n",
    "plt.grid(alpha=0.4)\n",
    "plt.xlabel('Longitude', fontsize=12, fontweight='bold')\n",
    "plt.ylabel('Latitude', fontsize=12, fontweight='bold')\n",
    "plt.title(f\"Testing randomness in Citipy set: Longitude vs. Latitude ({adate})\", fontsize=14, fontweight='bold')\n",
    "plt.savefig('./graphics/Citipy randomness test')"
   ]
  },
  {
   "cell_type": "markdown",
   "metadata": {},
   "source": [
    "## Temperature vs. Latitude\n",
    "\n",
    "- Temperature has an inverse relationship to the absolute value of the latitude\n",
    "- This demonstrates that temperatures do rise as you near the equator\n",
    "- There is a different slope to the relationship for temperatures measured during the day and night\n",
    "- P-values are significant in all three measures - combined, daytime and nighttime\n",
    "- When plotting temperature vs. actual latitude, it is apparent that the Northern Hemisphere is much \n",
    "colder than Southern Hemisphere - probably because it\\'s winter."
   ]
  },
  {
   "cell_type": "markdown",
   "metadata": {},
   "source": [
    "### Fig. 1 Temperature vs. Absolute Latitude using seaborn to highlight day/night"
   ]
  },
  {
   "cell_type": "code",
   "execution_count": null,
   "metadata": {},
   "outputs": [],
   "source": [
    "sbn.lmplot(data=weather_data, x='Absolute Latitude', y='Max Temp', hue='Daytime', legend=False)\n",
    "fig = plt.gcf()\n",
    "fig.set_size_inches(10, 8)\n",
    "fig.ylimit=(-60,45)\n",
    "fig.xlimit=(-65,85)\n",
    "plt.xlabel('Latitude', fontsize=12, fontweight='bold')\n",
    "plt.ylabel('Temperature', fontsize=12, fontweight='bold')\n",
    "plt.title(f\"Temperature vs. Absolute Latitude from Citipy ({adate})\", fontsize=14, fontweight='bold')\n",
    "plt.legend(loc='best')\n",
    "plt.savefig('./graphics/Fig1.png')"
   ]
  },
  {
   "cell_type": "code",
   "execution_count": null,
   "metadata": {},
   "outputs": [],
   "source": [
    "# There were no outliers\n",
    "outliers = weather_data[weather_data['Max Temp'] > weather_data['Max Temp'].mean() + 3 * weather_data['Max Temp'].std()]\n",
    "outliers"
   ]
  },
  {
   "cell_type": "code",
   "execution_count": null,
   "metadata": {
    "scrolled": true
   },
   "outputs": [],
   "source": [
    "# get coeffs of linear fit for the full dataset\n",
    "w_stats(weather_data['Absolute Latitude'], weather_data['Max Temp'])"
   ]
  },
  {
   "cell_type": "code",
   "execution_count": null,
   "metadata": {},
   "outputs": [],
   "source": [
    "# get coeffs of linear fit for cities that were in nighttime when data was collected\n",
    "night_df = weather_data.loc[weather_data.Daytime=='Night',:]\n",
    "w_stats(night_df['Absolute Latitude'], night_df['Max Temp'])"
   ]
  },
  {
   "cell_type": "code",
   "execution_count": null,
   "metadata": {},
   "outputs": [],
   "source": [
    "# get coeffs of linear fit for cities that were in daytime when data was collected\n",
    "day_df = weather_data.loc[weather_data.Daytime=='Day',:]\n",
    "w_stats(day_df['Absolute Latitude'], day_df['Max Temp'])"
   ]
  },
  {
   "cell_type": "markdown",
   "metadata": {},
   "source": [
    "### Fig. 2a. Temperature vs. Absolute Latitude using Matplotlib"
   ]
  },
  {
   "cell_type": "code",
   "execution_count": null,
   "metadata": {},
   "outputs": [],
   "source": [
    "# Duplicating plot without Seaborn since instructions called for Matplotlib only\n",
    "\n",
    "fig, ax = plt.subplots(figsize=(10,8), subplot_kw={'ylim':(-60,45), 'xlim':(0,90)})\n",
    "night_df.plot(ax=ax, kind=\"scatter\", x='Absolute Latitude', y='Max Temp', s=40, color=\"tab:orange\", edgecolor='tab:orange', label='Night')\n",
    "day_df.plot(ax=ax, kind=\"scatter\", grid=True, x='Absolute Latitude', y='Max Temp', s=40, color=\"tab:blue\", edgecolors=\"tab:blue\", label='Day')\n",
    "\n",
    "plt.xlabel('Latitude', fontsize=12, fontweight='bold')\n",
    "plt.ylabel('Temperature •C', fontsize=12, fontweight='bold')\n",
    "plt.title(f\"Temperature vs. Absolute Latitude from Citipy ({adate})\", fontsize=14, fontweight='bold')\n",
    "plt.legend(loc='best')\n",
    "plt.savefig('./graphics/Fig2a.png')"
   ]
  },
  {
   "cell_type": "markdown",
   "metadata": {},
   "source": [
    "### Fig. 2b - Temperature vs. Real Latitude"
   ]
  },
  {
   "cell_type": "code",
   "execution_count": null,
   "metadata": {
    "scrolled": true
   },
   "outputs": [],
   "source": [
    "# Duplicating plot without absolute Latitude\n",
    "\n",
    "fig, ax = plt.subplots(figsize=(10,8), subplot_kw={'ylim':(-60,45), 'xlim':(-90,90)})\n",
    "night_df.plot(ax=ax, kind=\"scatter\", x='Lat', y='Max Temp', s=40, color=\"tab:orange\", edgecolor='tab:orange', label='Night')\n",
    "day_df.plot(ax=ax, kind=\"scatter\", grid=True, x='Lat', y='Max Temp', s=40, color=\"tab:blue\", edgecolors=\"tab:blue\", label='Day')\n",
    "\n",
    "plt.xlabel('Latitude', fontsize=12, fontweight='bold')\n",
    "plt.ylabel('Temperature •C', fontsize=12, fontweight='bold')\n",
    "plt.title(f\"Temperature vs. Real Latitude from Citipy ({adate})\", fontsize=14, fontweight='bold')\n",
    "plt.legend(loc='best')\n",
    "plt.savefig('./graphics/Fig2b.png')"
   ]
  },
  {
   "cell_type": "markdown",
   "metadata": {},
   "source": [
    "## Humidity vs. Latitude\n",
    "\n",
    "- The dataset had one outlier where humidity was greater than 100 percent, so that was removed\n",
    "- The relationship between humidity and latitude was not significant for the whole dataset.\n",
    "- However, there was a significant increase in humidity in cities nearer to the equator at night (P=1.95e-08).\n",
    "- That increase was not reflected in subsequent runs and could have been the result of a specific weather pattern.\n",
    "- There was no significant difference in humidity in cities based on latitude during the day.\n",
    "- When looking at humidity vs. lat/long coordinates, one can clearly see arid conditions in Northern Africa and Siberia."
   ]
  },
  {
   "cell_type": "code",
   "execution_count": null,
   "metadata": {},
   "outputs": [],
   "source": [
    "outliers = weather_data[weather_data['Humidity'] > weather_data['Humidity'].mean() + 3 * weather_data['Humidity'].std()]\n",
    "outliers"
   ]
  },
  {
   "cell_type": "code",
   "execution_count": null,
   "metadata": {},
   "outputs": [],
   "source": [
    "#Removing one outlier that had a humidity of 300% for the seaborn plot\n",
    "weather_data_f = weather_data[np.abs(weather_data.Humidity-weather_data.Humidity.mean()) <= (3*weather_data.Humidity.std())]"
   ]
  },
  {
   "cell_type": "markdown",
   "metadata": {},
   "source": [
    "### Fig 3. Humidity vs. Absolute Latitude using seaborn"
   ]
  },
  {
   "cell_type": "code",
   "execution_count": null,
   "metadata": {
    "scrolled": true
   },
   "outputs": [],
   "source": [
    "# Looking at the seaborn plot you can see a trend in the nighttime samples.\n",
    "\n",
    "sbn.lmplot(data=weather_data_f, x='Absolute Latitude', y='Humidity', hue='Daytime', legend=True)\n",
    "fig = plt.gcf()\n",
    "fig.set_size_inches(10, 8)\n",
    "plt.title(f\"Humidity vs. Abs. Latitude using Seaborn lmplot on Citipy set from {adate}\", fontsize=14, fontweight='bold')\n",
    "\n",
    "plt.savefig('./graphics/Fig3.png')"
   ]
  },
  {
   "cell_type": "markdown",
   "metadata": {},
   "source": [
    "### Fig. 4. Humidity mapped by Longitude/Latitude coordinates in seaborn"
   ]
  },
  {
   "cell_type": "code",
   "execution_count": null,
   "metadata": {},
   "outputs": [],
   "source": [
    "# Plotting humidity on a longitude/latitude grid.\n",
    "\n",
    "sbn.scatterplot(data=weather_data_f, x='Lon', y='Lat', hue='Humidity', s=60)\n",
    "fig = plt.gcf()\n",
    "fig.set_size_inches(10, 8)\n",
    "fig.ylimit=(-60,45)\n",
    "fig.xlimit=(-65,85)\n",
    "\n",
    "plt.grid(alpha=0.4)\n",
    "plt.xlabel('Longitude', fontsize=12, fontweight='bold')\n",
    "plt.ylabel('Latitude', fontsize=12, fontweight='bold')\n",
    "\n",
    "plt.legend(loc='best')\n",
    "plt.title(f\"Humidity level vs. Coordinates from Citipy ({adate})\", fontsize=14, fontweight='bold')\n",
    "# plt.legend(loc='best')\n",
    "plt.savefig('./graphics/Fig4.png')\n"
   ]
  },
  {
   "cell_type": "code",
   "execution_count": null,
   "metadata": {},
   "outputs": [],
   "source": [
    "#Removing one outlier that had a humidity of 300% for the matplotlib plot\n",
    "day_df = day_df[np.abs(day_df.Humidity-day_df.Humidity.mean()) <= (3*day_df.Humidity.std())]\n"
   ]
  },
  {
   "cell_type": "markdown",
   "metadata": {},
   "source": [
    "### Fig. 5 Humidity vs. Absolute Latitude in Matplotlib"
   ]
  },
  {
   "cell_type": "code",
   "execution_count": null,
   "metadata": {},
   "outputs": [],
   "source": [
    "# Duplicating in Matplotlib because instructions said to only use this.\n",
    "\n",
    "fig, ax = plt.subplots(figsize=(10,8), subplot_kw={'ylim':(0,100), 'xlim':(0,90)})\n",
    "night_df.plot(ax=ax, kind=\"scatter\", x='Absolute Latitude', y='Humidity', s=40, color=\"tab:orange\", edgecolor='tab:orange', label='Night')\n",
    "day_df.plot(ax=ax, kind=\"scatter\", grid=True, x='Absolute Latitude', y='Humidity', s=40, color=\"tab:blue\", edgecolors=\"tab:blue\", label='Day')\n",
    "\n",
    "plt.xlabel('Latitude', fontsize=12, fontweight='bold')\n",
    "plt.ylabel('Humidity', fontsize=12, fontweight='bold')\n",
    "plt.title(f\"Humidity vs. Latitude from Citipy ({adate})\", fontsize=14, fontweight='bold')\n",
    "plt.legend(loc='best')\n",
    "\n",
    "# plt.legend(loc='best')\n",
    "plt.savefig('./graphics/Fig5.png')"
   ]
  },
  {
   "cell_type": "markdown",
   "metadata": {},
   "source": [
    "## Cloudiness vs. Latitude\n",
    "- There were no outliers in Cloudiness in the dataset\n",
    "- We could find no apparent relationship between cloudiness and latitude through scatter plot (Fig. 6a).\n",
    "- A plot of cloudiness vs. coordinates shows the clusters of cloudy regions based on latitude and longitude (Fig. 6b).\n",
    "- At the time of data collection, it was cloudy in portions of Canada, South America, Northern Europe\n",
    "- At the time of data collection it was largely clear across the equator."
   ]
  },
  {
   "cell_type": "code",
   "execution_count": null,
   "metadata": {},
   "outputs": [],
   "source": [
    "# There were no outliers\n",
    "outliers = weather_data[weather_data['Cloudiness'] > weather_data['Cloudiness'].mean() + 3 * weather_data['Cloudiness'].std()]\n",
    "outliers"
   ]
  },
  {
   "cell_type": "markdown",
   "metadata": {},
   "source": [
    "### Fig 6a. Cloudiness vs. Latitude night/day by coordinates"
   ]
  },
  {
   "cell_type": "code",
   "execution_count": null,
   "metadata": {},
   "outputs": [],
   "source": [
    "# Cloudiness graphed by long/lat\n",
    "fig, ax = plt.subplots(figsize=(10,8), subplot_kw={'ylim':(-90,90), 'xlim':(-180, 180)})\n",
    "night_owm.plot(ax=ax, kind=\"scatter\", x='Lon', y='Lat', s=40, color=\"tab:orange\", label='Night', edgecolor='grey')\n",
    "day_owm.plot(ax=ax, kind=\"scatter\", grid=True, x='Lon', y='Lat', s=40, color=\"tab:blue\", label='Day',edgecolor='grey')\n",
    "\n",
    "plt.xlabel('Longitude', fontsize=12, fontweight='bold')\n",
    "plt.ylabel('Latitude', fontsize=12, fontweight='bold')\n",
    "\n",
    "plt.legend(loc='best')\n",
    "plt.title(f\"Cloudiness vs Longitude vs. Latitude from ({adate})\", fontsize=14, fontweight='bold')\n",
    "plt.savefig('./graphics/Fig6a.png')\n"
   ]
  },
  {
   "cell_type": "markdown",
   "metadata": {},
   "source": [
    "### Fig. 6b. Cloudiness vs. Latitude"
   ]
  },
  {
   "cell_type": "code",
   "execution_count": null,
   "metadata": {},
   "outputs": [],
   "source": [
    "# Plotting night/day data vs. Latitude\n",
    "fig, ax = plt.subplots(figsize=(10,8), subplot_kw={'ylim':(0,100), 'xlim':(-90,90)})\n",
    "night_df.plot(ax=ax, kind=\"scatter\", x='Lat', y='Cloudiness', s=40, color=\"tab:orange\", edgecolor='tab:orange', label='Night')\n",
    "day_df.plot(ax=ax, kind=\"scatter\", grid=True, x='Lat', y='Cloudiness', s=40, color=\"tab:blue\", edgecolors=\"tab:blue\", label='Day')\n",
    "\n",
    "plt.xlabel('Latitude', fontsize=12, fontweight='bold')\n",
    "plt.ylabel('Cloudiness', fontsize=12, fontweight='bold')\n",
    "plt.title(f\"Cloudiness vs. Real Latitude from Citipy ({adate})\", fontsize=14, fontweight='bold')\n",
    "plt.legend(loc='best')\n",
    "plt.savefig('./graphics/Fig6a.png')"
   ]
  },
  {
   "cell_type": "markdown",
   "metadata": {},
   "source": [
    "### Fig. 6c. Cloudiness level mapped by Longitude/Latitude in seaborn"
   ]
  },
  {
   "cell_type": "code",
   "execution_count": null,
   "metadata": {},
   "outputs": [],
   "source": [
    "# Plotting cloudiness vs. coordinates in seaborn\n",
    "sbn.scatterplot(data=weather_data, x='Lon', y='Lat', hue='Cloudiness')\n",
    "fig = plt.gcf()\n",
    "fig.set_size_inches(10, 8)\n",
    "fig.ylimit=(-60,45)\n",
    "fig.xlimit=(-65,85)\n",
    "\n",
    "plt.grid(alpha=0.4)\n",
    "plt.xlabel('Longitude', fontsize=12, fontweight='bold')\n",
    "plt.ylabel('Latitude', fontsize=12, fontweight='bold')\n",
    "\n",
    "plt.legend(loc='best')\n",
    "plt.title(f\"Cloudiness level vs. Coordinates from Citipy ({adate})\", fontsize=14, fontweight='bold')\n",
    "# plt.legend(loc='best')\n",
    "plt.savefig('./graphics/Fig6c.png')"
   ]
  },
  {
   "cell_type": "markdown",
   "metadata": {},
   "source": [
    "## Latitude vs. Wind Speed\n",
    "- There was no direct relationship between latitude or longitude and wind\n",
    "- There were several outlier\n",
    "- There was a cluster of windiness in Northern Europe and South America."
   ]
  },
  {
   "cell_type": "code",
   "execution_count": null,
   "metadata": {},
   "outputs": [],
   "source": [
    "# There were several outliers\n",
    "outliers = weather_data[weather_data['Wind Speed'] > weather_data['Wind Speed'].mean() + 3 * weather_data['Wind Speed'].std()]\n",
    "outliers"
   ]
  },
  {
   "cell_type": "code",
   "execution_count": null,
   "metadata": {},
   "outputs": [],
   "source": [
    "#Removing one outlier that had a humidity of 300% for the seaborn plot\n",
    "weather_data_w = weather_data[np.abs(weather_data['Wind Speed']-weather_data['Wind Speed'].mean()) <= (3*weather_data['Wind Speed'].std())]\n",
    "len(weather_data_w)\n"
   ]
  },
  {
   "cell_type": "code",
   "execution_count": null,
   "metadata": {},
   "outputs": [],
   "source": [
    "# Remake night/day dataframes without outliers\n",
    "night_dfw = weather_data_w.loc[weather_data_w.Daytime=='Night',:]\n",
    "day_dfw = weather_data_w.loc[weather_data_w.Daytime=='Day',:]"
   ]
  },
  {
   "cell_type": "markdown",
   "metadata": {},
   "source": [
    "### Fig. 7. Wind Speed vs. Latitude"
   ]
  },
  {
   "cell_type": "code",
   "execution_count": null,
   "metadata": {},
   "outputs": [],
   "source": [
    "# Duplicating in Matplotlib because instructions said to only use this.\n",
    "\n",
    "fig, ax = plt.subplots(figsize=(10,8), subplot_kw={'ylim':(0,13), 'xlim':(-90,90)})\n",
    "night_dfw.plot(ax=ax, kind=\"scatter\", x='Lat', y='Wind Speed', s=40, color=\"tab:orange\", edgecolor='tab:orange', label='Night')\n",
    "day_dfw.plot(ax=ax, kind=\"scatter\", grid=True, x='Lat', y='Wind Speed', s=40, color=\"tab:blue\", edgecolors=\"tab:blue\", label='Day')\n",
    "\n",
    "plt.xlabel('Latitude', fontsize=12, fontweight='bold')\n",
    "plt.ylabel('Humidity', fontsize=12, fontweight='bold')\n",
    "plt.title(f\"Wind Speed vs. Latitude from Citipy ({adate})\", fontsize=14, fontweight='bold')\n",
    "\n",
    "# fig.legend(loc='best')\n",
    "plt.savefig('./graphics/Fig7.png')"
   ]
  },
  {
   "cell_type": "markdown",
   "metadata": {},
   "source": [
    "### Fig. 8. Wind Speed level by Coordinates in seaborn"
   ]
  },
  {
   "cell_type": "code",
   "execution_count": null,
   "metadata": {},
   "outputs": [],
   "source": [
    "sbn.scatterplot(data=weather_data_w, x='Lon', y='Lat', hue='Wind Speed', legend='brief')\n",
    "fig = plt.gcf()\n",
    "fig.set_size_inches(10, 8)\n",
    "fig.ylimit=(-60,45)\n",
    "fig.xlimit=(-65,85)\n",
    "plt.grid(alpha=0.4)\n",
    "plt.xlabel('Longitude', fontsize=12, fontweight='bold')\n",
    "plt.ylabel('Latitude', fontsize=12, fontweight='bold')\n",
    "plt.title(f\"Wind Speeds vs. Coordinates from Citipy set ({adate})\", fontsize=14, fontweight='bold')\n",
    "# plt.legend(loc='best')\n",
    "plt.savefig('./graphics/Fig8.png')"
   ]
  },
  {
   "cell_type": "code",
   "execution_count": 5,
   "metadata": {},
   "outputs": [
    {
     "data": {
      "application/vnd.jupyter.widget-view+json": {
       "model_id": "05ea7b0550be43ea94c99e6cf75f1816",
       "version_major": 2,
       "version_minor": 0
      },
      "text/plain": [
       "Figure(layout=FigureLayout(height='420px'))"
      ]
     },
     "metadata": {},
     "output_type": "display_data"
    }
   ],
   "source": [
    "# Attempt to map the data of temperature extremes using Gmaps head map\n",
    "locations = weather_data[[\"Lat\", \"Lon\"]]\n",
    "\n",
    "# Fill NaN values and convert to float\n",
    "temps = weather_data[\"Wind Speed\"]\n",
    "fig = gmaps.figure()\n",
    "\n",
    "# Create heat layer\n",
    "heat_layer = gmaps.heatmap_layer(locations, weights=temps, \n",
    "                                 dissipating=False, max_intensity=10,\n",
    "                                 point_radius=1)\n",
    "\n",
    "\n",
    "# Add layer\n",
    "fig.add_layer(heat_layer)\n",
    "\n",
    "# Display figure\n",
    "fig"
   ]
  },
  {
   "cell_type": "code",
   "execution_count": null,
   "metadata": {},
   "outputs": [],
   "source": []
  }
 ],
 "metadata": {
  "kernelspec": {
   "display_name": "Python 3",
   "language": "python",
   "name": "python3"
  },
  "language_info": {
   "codemirror_mode": {
    "name": "ipython",
    "version": 3
   },
   "file_extension": ".py",
   "mimetype": "text/x-python",
   "name": "python",
   "nbconvert_exporter": "python",
   "pygments_lexer": "ipython3",
   "version": "3.7.0"
  }
 },
 "nbformat": 4,
 "nbformat_minor": 2
}
