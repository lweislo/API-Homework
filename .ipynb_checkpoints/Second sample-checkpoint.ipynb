{
 "cells": [
  {
   "cell_type": "code",
   "execution_count": null,
   "metadata": {
    "scrolled": false
   },
   "outputs": [],
   "source": [
    "%matplotlib inline"
   ]
  },
  {
   "cell_type": "code",
   "execution_count": null,
   "metadata": {},
   "outputs": [],
   "source": [
    "import matplotlib.pyplot as plt\n",
    "import pandas as pd\n",
    "import numpy as np\n",
    "import seaborn as sbn\n",
    "from scipy import stats\n",
    "from weather import city_list, weather_analysis, w_stats\n",
    "import gmaps\n",
    "from config import api_key, gkey\n",
    "# Configure gmaps\n",
    "gmaps.configure(api_key=gkey)"
   ]
  },
  {
   "cell_type": "code",
   "execution_count": null,
   "metadata": {},
   "outputs": [],
   "source": [
    "# To generate a new set of cities, uncomment the line below and run\n",
    "# city_list()"
   ]
  },
  {
   "cell_type": "code",
   "execution_count": null,
   "metadata": {},
   "outputs": [],
   "source": [
    "weather_data = weather_analysis('./data/out_20190108-145516.csv')"
   ]
  },
  {
   "cell_type": "code",
   "execution_count": null,
   "metadata": {},
   "outputs": [],
   "source": [
    "# Convert the Date (data retrieval) from Epoch to readable time\n",
    "weather_data['Date(GMT)'] = pd.to_datetime(weather_data['Date'], unit='s').dt.strftime('%m-%d-%Y: %H:%M')\n",
    "adate = weather_data['Date(GMT)'][0] + ' GMT'\n",
    "# For statistical analysis, we will consider absolute latitude\n",
    "weather_data['Absolute Latitude'] = abs(weather_data['Lat'])\n",
    "\n",
    "weather_data.head()"
   ]
  },
  {
   "cell_type": "markdown",
   "metadata": {},
   "source": [
    "### Testing the distribution of the random cities by plotting latitude/longitude\n",
    "\n",
    "* Is the distribution of cities even across a range of coordinates (on land masses)?\n",
    "- Plot out the latitude/longitude of the random sample using Citipy\n",
    "- While the density of the Citipy sample does not reflect population density, it gives a nice spread across land masses.\n",
    "** Density can be seen when plotting a random sample of the OWM city (JSON libarary) coordinates"
   ]
  },
  {
   "cell_type": "code",
   "execution_count": null,
   "metadata": {},
   "outputs": [],
   "source": [
    "sbn.scatterplot(data=weather_data, x='Lon', y='Lat', hue='Daytime', legend=False, s=40)\n",
    "fig = plt.gcf()\n",
    "fig.set_size_inches(10, 8)\n",
    "fig.ylimit=(-60,45)\n",
    "fig.xlimit=(-65,85)\n",
    "plt.grid(alpha=0.4)\n",
    "plt.xlabel('Longitude', fontsize=12, fontweight='bold')\n",
    "plt.ylabel('Latitude', fontsize=12, fontweight='bold')\n",
    "plt.title(f\"Testing randomness in Citipy set: Longitude vs. Latitude ({adate})\", fontsize=14, fontweight='bold')\n",
    "plt.savefig('./graphics/Citipy randomness test')"
   ]
  },
  {
   "cell_type": "markdown",
   "metadata": {},
   "source": [
    "## Temperature vs. Latitude\n",
    "\n",
    "- Temperature has an inverse relationship to the absolute value of the latitude\n",
    "- This demonstrates that temperatures do rise as you near the equator\n",
    "- There is a different slope to the relationship for temperatures measured during the day and night\n",
    "- P-values are significant in all three measures - combined, daytime and nighttime\n",
    "- When plotting temperature vs. actual latitude, it is apparent that the Northern Hemisphere is much \n",
    "colder than Southern Hemisphere - probably because it\\'s winter."
   ]
  },
  {
   "cell_type": "code",
   "execution_count": null,
   "metadata": {},
   "outputs": [],
   "source": [
    "sbn.lmplot(data=weather_data, x='Absolute Latitude', y='Max Temp', hue='Daytime', legend=False)\n",
    "fig = plt.gcf()\n",
    "fig.set_size_inches(10, 8)\n",
    "fig.ylimit=(-60,45)\n",
    "fig.xlimit=(-65,85)\n",
    "plt.xlabel('Latitude', fontsize=12, fontweight='bold')\n",
    "plt.ylabel('Temperature', fontsize=12, fontweight='bold')\n",
    "plt.title(f\"Latitude vs. Temperature from Citipy ({adate})\", fontsize=14, fontweight='bold')\n",
    "plt.legend(loc='best')\n",
    "plt.savefig('./data/Citipy_temp_abslat.png')"
   ]
  },
  {
   "cell_type": "code",
   "execution_count": null,
   "metadata": {
    "scrolled": true
   },
   "outputs": [],
   "source": [
    "# get coeffs of linear fit for the full dataset\n",
    "w_stats(weather_data['Absolute Latitude'], weather_data['Max Temp'])"
   ]
  },
  {
   "cell_type": "code",
   "execution_count": null,
   "metadata": {},
   "outputs": [],
   "source": [
    "# get coeffs of linear fit for cities that were in nighttime when data was collected\n",
    "night_df = weather_data.loc[weather_data.Daytime=='Night',:]\n",
    "w_stats(night_df['Absolute Latitude'], night_df['Max Temp'])"
   ]
  },
  {
   "cell_type": "code",
   "execution_count": null,
   "metadata": {},
   "outputs": [],
   "source": [
    "# get coeffs of linear fit for cities that were in daytime when data was collected\n",
    "day_df = weather_data.loc[weather_data.Daytime=='Day',:]\n",
    "w_stats(day_df['Absolute Latitude'], day_df['Max Temp'])"
   ]
  },
  {
   "cell_type": "code",
   "execution_count": null,
   "metadata": {
    "scrolled": true
   },
   "outputs": [],
   "source": [
    "fig, ax = plt.subplots(figsize=(10,8), subplot_kw={'ylim':(-60,45), 'xlim':(-90,90)})\n",
    "night_df.plot(ax=ax, kind=\"scatter\", x='Lat', y='Max Temp', s=40, color=\"tab:orange\", edgecolor='tab:orange', label='Night')\n",
    "day_df.plot(ax=ax, kind=\"scatter\", grid=True, x='Lat', y='Max Temp', s=40, color=\"tab:blue\", edgecolors=\"tab:blue\", label='Day')\n",
    "\n",
    "plt.xlabel('Latitude', fontsize=12, fontweight='bold')\n",
    "plt.ylabel('Temperature', fontsize=12, fontweight='bold')\n",
    "plt.title(f\"Latitude vs. Temperature from Citipy ({adate})\", fontsize=14, fontweight='bold')\n",
    "plt.legend(loc='best')\n",
    "plt.savefig('./data/Citipy_temp_lat.png')"
   ]
  },
  {
   "cell_type": "markdown",
   "metadata": {},
   "source": [
    "## Humidity vs. Latitude\n",
    "\n",
    "- The dataset had one outlier where humidity was greater than 100 percent, so that was removed\n",
    "- The relationship between humidity and latitude was not significant for the whole dataset.\n",
    "- However, there was a significant increase in humidity in cities nearer to the equator at night (P=1.95e-08).\n",
    "- That increase was not reflected in subsequent runs and could have been the result of a specific weather pattern.\n",
    "- There was no significant difference in humidity in cities based on latitude during the day ."
   ]
  },
  {
   "cell_type": "code",
   "execution_count": null,
   "metadata": {},
   "outputs": [],
   "source": [
    "#Removing one outlier that had a humidity of 300%\n",
    "weather_data_f = weather_data[np.abs(weather_data.Humidity-weather_data.Humidity.mean()) <= (3*weather_data.Humidity.std())]\n"
   ]
  },
  {
   "cell_type": "code",
   "execution_count": null,
   "metadata": {
    "scrolled": true
   },
   "outputs": [],
   "source": [
    "# Looking at the seaborn plot you can see a trend in the nighttime samples... sort of.\n",
    "sbn.lmplot(data=weather_data_f, x='Absolute Latitude', y='Humidity', hue='Daytime', legend=True)\n",
    "fig = plt.gcf()\n",
    "fig.set_size_inches(10, 8)"
   ]
  },
  {
   "cell_type": "code",
   "execution_count": null,
   "metadata": {},
   "outputs": [],
   "source": [
    "#Removing one outlier that had a humidity of 300%\n",
    "day_df = day_df[np.abs(day_df.Humidity-day_df.Humidity.mean()) <= (3*day_df.Humidity.std())]\n"
   ]
  },
  {
   "cell_type": "code",
   "execution_count": null,
   "metadata": {},
   "outputs": [],
   "source": [
    "fig, ax = plt.subplots(figsize=(10,8), subplot_kw={'xlim':(-90,90), 'xlim':(-90,90)})\n",
    "night_df.plot(ax=ax, kind=\"scatter\", x='Lat', y='Humidity', s=40, color=\"tab:orange\", edgecolor='tab:orange', label='Night')\n",
    "day_df.plot(ax=ax, kind=\"scatter\", grid=True, x='Lat', y='Humidity', s=40, color=\"tab:blue\", edgecolors=\"tab:blue\", label='Day')\n",
    "\n",
    "plt.xlabel('Latitude', fontsize=12, fontweight='bold')\n",
    "plt.ylabel('Humidity', fontsize=12, fontweight='bold')\n",
    "plt.title(f\"Latitude vs. Humidity from Citipy ({adate})\", fontsize=14, fontweight='bold')\n",
    "plt.legend(loc='best')\n",
    "\n",
    "# plt.legend(loc='best')\n",
    "plt.savefig('./data/Citipy_humid_lat.png')"
   ]
  },
  {
   "cell_type": "markdown",
   "metadata": {},
   "source": [
    "#### Cloudiness Plot\n",
    "- We could find no apparent relationship between cloudiness and latitude or longitude in the dataset in other plots.\n",
    "- This plot shows the clusters of cloudy regions based on latitude and longitude.\n",
    "- At the time of data collection, it was cloudy in portions of Canada, South America, Northern Europe\n",
    "- At the time of data collection it was largely clear across the equator."
   ]
  },
  {
   "cell_type": "code",
   "execution_count": null,
   "metadata": {},
   "outputs": [],
   "source": [
    "sbn.scatterplot(data=weather_data, x='Lon', y='Lat', hue='Cloudiness')\n",
    "fig = plt.gcf()\n",
    "fig.set_size_inches(10, 8)\n",
    "fig.ylimit=(-60,45)\n",
    "fig.xlimit=(-65,85)\n",
    "\n",
    "plt.grid(alpha=0.4)\n",
    "plt.xlabel('Longitude', fontsize=12, fontweight='bold')\n",
    "plt.ylabel('Latitude', fontsize=12, fontweight='bold')\n",
    "\n",
    "plt.legend(loc='best')\n",
    "plt.title(f\"Coordinates vs. Cloudiness from Citipy ({adate})\", fontsize=14, fontweight='bold')\n",
    "# plt.legend(loc='best')\n",
    "plt.savefig('./data/Citipy_cloud_coord.png')"
   ]
  },
  {
   "cell_type": "markdown",
   "metadata": {},
   "source": [
    "#### Latitude vs. Wind Speed Plot\n",
    "- There was no direct relationship between latitude or longitude and wind\n",
    "- There was a cluster of windiness in Northern Europe and South America."
   ]
  },
  {
   "cell_type": "code",
   "execution_count": null,
   "metadata": {},
   "outputs": [],
   "source": [
    "sbn.scatterplot(data=weather_data, x='Lon', y='Lat', hue='Wind Speed', legend='brief')\n",
    "fig = plt.gcf()\n",
    "fig.set_size_inches(10, 8)\n",
    "fig.ylimit=(-60,45)\n",
    "fig.xlimit=(-65,85)\n",
    "plt.grid(alpha=0.4)\n",
    "plt.title(f\"Latitude vs. Wind Speed from Citipy set ({adate})\")\n",
    "# plt.legend(loc='best')\n",
    "plt.savefig('./data/Citipy_wind_coord.png')"
   ]
  }
 ],
 "metadata": {
  "kernelspec": {
   "display_name": "Python 3",
   "language": "python",
   "name": "python3"
  },
  "language_info": {
   "codemirror_mode": {
    "name": "ipython",
    "version": 3
   },
   "file_extension": ".py",
   "mimetype": "text/x-python",
   "name": "python",
   "nbconvert_exporter": "python",
   "pygments_lexer": "ipython3",
   "version": "3.6.6"
  }
 },
 "nbformat": 4,
 "nbformat_minor": 2
}
